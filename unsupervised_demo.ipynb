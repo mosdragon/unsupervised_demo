{
 "cells": [
  {
   "cell_type": "markdown",
   "metadata": {},
   "source": [
    "Preprocessing\n",
    "===\n",
    "\n"
   ]
  },
  {
   "cell_type": "code",
   "execution_count": 1,
   "metadata": {
    "collapsed": true
   },
   "outputs": [],
   "source": [
    "from constants import *  # bad practice but YOLO\n",
    "import preproc"
   ]
  },
  {
   "cell_type": "code",
   "execution_count": 2,
   "metadata": {
    "collapsed": true
   },
   "outputs": [],
   "source": [
    "import constants\n",
    "reload(constants);\n",
    "from constants import *"
   ]
  },
  {
   "cell_type": "code",
   "execution_count": 3,
   "metadata": {
    "collapsed": false
   },
   "outputs": [],
   "source": [
    "reload(preproc);\n",
    "y_tr, x_tr = preproc.read_data(TRAIN_FILE, #filename\n",
    "                              'subreddit', #label field\n",
    "                              preprocessor=preproc.tokenize_and_downcase) #your preprocessor\n",
    "\n",
    "y_te, x_te = preproc.read_data(TEST_FILE, #filename\n",
    "                              'subreddit', #label field\n",
    "                              preprocessor=preproc.tokenize_and_downcase) #your preprocessor"
   ]
  },
  {
   "cell_type": "code",
   "execution_count": 4,
   "metadata": {
    "collapsed": false
   },
   "outputs": [],
   "source": [
    "reload(preproc);\n",
    "vocab = preproc.create_vocab(x_tr, x_te)"
   ]
  },
  {
   "cell_type": "code",
   "execution_count": 5,
   "metadata": {
    "collapsed": true
   },
   "outputs": [],
   "source": [
    "reload(preproc);\n",
    "mapping = preproc.create_mapping(vocab)"
   ]
  },
  {
   "cell_type": "code",
   "execution_count": 6,
   "metadata": {
    "collapsed": false
   },
   "outputs": [],
   "source": [
    "# Now, we'll turn all of our input features into feature vectors\n",
    "import numpy as np\n",
    "\n",
    "Y_tr = np.array(y_tr)\n",
    "X_tr = [preproc.feature_vector(bow, vocab, mapping) for bow in x_tr]\n",
    "\n",
    "Y_te = np.array(y_te)\n",
    "X_te = [preproc.feature_vector(bow, vocab, mapping) for bow in x_te]"
   ]
  },
  {
   "cell_type": "code",
   "execution_count": 23,
   "metadata": {
    "collapsed": false
   },
   "outputs": [],
   "source": [
    "# It looks like our training data may be too big and might cause memory issues\n",
    "# we'll chop 1/2 of our training data off for now\n",
    "X_tr_orig = X_tr\n",
    "Y_tr_orig = Y_tr\n",
    "# N = len(Y_tr)\n",
    "# Y_tr = Y_tr_orig[:5*N/6]\n",
    "# X_tr = X_tr_orig[:5*N/6]"
   ]
  },
  {
   "cell_type": "markdown",
   "metadata": {},
   "source": [
    "Learning\n",
    "========="
   ]
  },
  {
   "cell_type": "code",
   "execution_count": 7,
   "metadata": {
    "collapsed": true
   },
   "outputs": [],
   "source": [
    "import learner"
   ]
  },
  {
   "cell_type": "code",
   "execution_count": 8,
   "metadata": {
    "collapsed": false
   },
   "outputs": [],
   "source": [
    "reload(learner);\n",
    "\n",
    "nb = learner.trainNB(X_tr, Y_tr)"
   ]
  },
  {
   "cell_type": "code",
   "execution_count": 9,
   "metadata": {
    "collapsed": false
   },
   "outputs": [
    {
     "name": "stdout",
     "output_type": "stream",
     "text": [
      "0.8575\n",
      "0.698\n"
     ]
    }
   ],
   "source": [
    "print learner.accuracy(nb, X_tr, Y_tr)\n",
    "print learner.accuracy(nb, X_te, Y_te)"
   ]
  },
  {
   "cell_type": "markdown",
   "metadata": {
    "collapsed": true
   },
   "source": [
    "Learning Results\n",
    "=======\n",
    "\n",
    "\n",
    "So far, we've got:\n",
    "- 85.7% training accuracy\n",
    "- 69.8% test accuracy\n",
    "\n",
    "Can we do better? Let's try dimensionality reduction\n"
   ]
  },
  {
   "cell_type": "code",
   "execution_count": 45,
   "metadata": {
    "collapsed": false
   },
   "outputs": [
    {
     "name": "stdout",
     "output_type": "stream",
     "text": [
      "200\n",
      "500\n"
     ]
    }
   ],
   "source": [
    "N = len(Y_tr_orig)\n",
    "X_tr = X_tr_orig[:N/20]\n",
    "Y_tr = Y_tr_orig[:N/20]\n",
    "print len(X_tr)\n",
    "print len(X_te)"
   ]
  },
  {
   "cell_type": "code",
   "execution_count": 43,
   "metadata": {
    "collapsed": false
   },
   "outputs": [],
   "source": [
    "reload(learner);\n",
    "X_tr = X_tr_orig\n",
    "rp = learner.get_RP_features(X_tr, X_te, vocab)\n",
    "#     pca_X_tr, pca_X_te"
   ]
  },
  {
   "cell_type": "code",
   "execution_count": 44,
   "metadata": {
    "collapsed": false,
    "scrolled": false
   },
   "outputs": [
    {
     "ename": "MemoryError",
     "evalue": "",
     "output_type": "error",
     "traceback": [
      "\u001b[0;31m---------------------------------------------------------------------------\u001b[0m",
      "\u001b[0;31mMemoryError\u001b[0m                               Traceback (most recent call last)",
      "\u001b[0;32m<ipython-input-44-5f184afa79c2>\u001b[0m in \u001b[0;36m<module>\u001b[0;34m()\u001b[0m\n\u001b[0;32m----> 1\u001b[0;31m \u001b[0mrp_X_tr\u001b[0m \u001b[0;34m=\u001b[0m \u001b[0mrp\u001b[0m\u001b[0;34m.\u001b[0m\u001b[0mtransform\u001b[0m\u001b[0;34m(\u001b[0m\u001b[0mX_tr\u001b[0m\u001b[0;34m)\u001b[0m\u001b[0;34m\u001b[0m\u001b[0m\n\u001b[0m\u001b[1;32m      2\u001b[0m \u001b[0mrp_X_te\u001b[0m \u001b[0;34m=\u001b[0m \u001b[0mrp\u001b[0m\u001b[0;34m.\u001b[0m\u001b[0mtransform\u001b[0m\u001b[0;34m(\u001b[0m\u001b[0mX_te\u001b[0m\u001b[0;34m)\u001b[0m\u001b[0;34m\u001b[0m\u001b[0m\n",
      "\u001b[0;32m/usr/local/lib/python2.7/dist-packages/sklearn/random_projection.pyc\u001b[0m in \u001b[0;36mtransform\u001b[0;34m(self, X, y)\u001b[0m\n\u001b[1;32m    419\u001b[0m \u001b[0;34m\u001b[0m\u001b[0m\n\u001b[1;32m    420\u001b[0m         X_new = safe_sparse_dot(X, self.components_.T,\n\u001b[0;32m--> 421\u001b[0;31m                                 dense_output=self.dense_output)\n\u001b[0m\u001b[1;32m    422\u001b[0m         \u001b[0;32mreturn\u001b[0m \u001b[0mX_new\u001b[0m\u001b[0;34m\u001b[0m\u001b[0m\n\u001b[1;32m    423\u001b[0m \u001b[0;34m\u001b[0m\u001b[0m\n",
      "\u001b[0;32m/usr/local/lib/python2.7/dist-packages/sklearn/utils/extmath.pyc\u001b[0m in \u001b[0;36msafe_sparse_dot\u001b[0;34m(a, b, dense_output)\u001b[0m\n\u001b[1;32m    182\u001b[0m     \"\"\"\n\u001b[1;32m    183\u001b[0m     \u001b[0;32mif\u001b[0m \u001b[0missparse\u001b[0m\u001b[0;34m(\u001b[0m\u001b[0ma\u001b[0m\u001b[0;34m)\u001b[0m \u001b[0;32mor\u001b[0m \u001b[0missparse\u001b[0m\u001b[0;34m(\u001b[0m\u001b[0mb\u001b[0m\u001b[0;34m)\u001b[0m\u001b[0;34m:\u001b[0m\u001b[0;34m\u001b[0m\u001b[0m\n\u001b[0;32m--> 184\u001b[0;31m         \u001b[0mret\u001b[0m \u001b[0;34m=\u001b[0m \u001b[0ma\u001b[0m \u001b[0;34m*\u001b[0m \u001b[0mb\u001b[0m\u001b[0;34m\u001b[0m\u001b[0m\n\u001b[0m\u001b[1;32m    185\u001b[0m         \u001b[0;32mif\u001b[0m \u001b[0mdense_output\u001b[0m \u001b[0;32mand\u001b[0m \u001b[0mhasattr\u001b[0m\u001b[0;34m(\u001b[0m\u001b[0mret\u001b[0m\u001b[0;34m,\u001b[0m \u001b[0;34m\"toarray\"\u001b[0m\u001b[0;34m)\u001b[0m\u001b[0;34m:\u001b[0m\u001b[0;34m\u001b[0m\u001b[0m\n\u001b[1;32m    186\u001b[0m             \u001b[0mret\u001b[0m \u001b[0;34m=\u001b[0m \u001b[0mret\u001b[0m\u001b[0;34m.\u001b[0m\u001b[0mtoarray\u001b[0m\u001b[0;34m(\u001b[0m\u001b[0;34m)\u001b[0m\u001b[0;34m\u001b[0m\u001b[0m\n",
      "\u001b[0;32m/usr/local/lib/python2.7/dist-packages/scipy/sparse/base.pyc\u001b[0m in \u001b[0;36m__rmul__\u001b[0;34m(self, other)\u001b[0m\n\u001b[1;32m    420\u001b[0m             \u001b[0;32mexcept\u001b[0m \u001b[0mAttributeError\u001b[0m\u001b[0;34m:\u001b[0m\u001b[0;34m\u001b[0m\u001b[0m\n\u001b[1;32m    421\u001b[0m                 \u001b[0mtr\u001b[0m \u001b[0;34m=\u001b[0m \u001b[0mnp\u001b[0m\u001b[0;34m.\u001b[0m\u001b[0masarray\u001b[0m\u001b[0;34m(\u001b[0m\u001b[0mother\u001b[0m\u001b[0;34m)\u001b[0m\u001b[0;34m.\u001b[0m\u001b[0mtranspose\u001b[0m\u001b[0;34m(\u001b[0m\u001b[0;34m)\u001b[0m\u001b[0;34m\u001b[0m\u001b[0m\n\u001b[0;32m--> 422\u001b[0;31m             \u001b[0;32mreturn\u001b[0m \u001b[0;34m(\u001b[0m\u001b[0mself\u001b[0m\u001b[0;34m.\u001b[0m\u001b[0mtranspose\u001b[0m\u001b[0;34m(\u001b[0m\u001b[0;34m)\u001b[0m \u001b[0;34m*\u001b[0m \u001b[0mtr\u001b[0m\u001b[0;34m)\u001b[0m\u001b[0;34m.\u001b[0m\u001b[0mtranspose\u001b[0m\u001b[0;34m(\u001b[0m\u001b[0;34m)\u001b[0m\u001b[0;34m\u001b[0m\u001b[0m\n\u001b[0m\u001b[1;32m    423\u001b[0m \u001b[0;34m\u001b[0m\u001b[0m\n\u001b[1;32m    424\u001b[0m     \u001b[0;31m#####################################\u001b[0m\u001b[0;34m\u001b[0m\u001b[0;34m\u001b[0m\u001b[0m\n",
      "\u001b[0;32m/usr/local/lib/python2.7/dist-packages/scipy/sparse/base.pyc\u001b[0m in \u001b[0;36m__mul__\u001b[0;34m(self, other)\u001b[0m\n\u001b[1;32m    342\u001b[0m                 \u001b[0;32mreturn\u001b[0m \u001b[0mself\u001b[0m\u001b[0;34m.\u001b[0m\u001b[0m_mul_vector\u001b[0m\u001b[0;34m(\u001b[0m\u001b[0mother\u001b[0m\u001b[0;34m.\u001b[0m\u001b[0mravel\u001b[0m\u001b[0;34m(\u001b[0m\u001b[0;34m)\u001b[0m\u001b[0;34m)\u001b[0m\u001b[0;34m.\u001b[0m\u001b[0mreshape\u001b[0m\u001b[0;34m(\u001b[0m\u001b[0mM\u001b[0m\u001b[0;34m,\u001b[0m \u001b[0;36m1\u001b[0m\u001b[0;34m)\u001b[0m\u001b[0;34m\u001b[0m\u001b[0m\n\u001b[1;32m    343\u001b[0m             \u001b[0;32melif\u001b[0m \u001b[0mother\u001b[0m\u001b[0;34m.\u001b[0m\u001b[0mndim\u001b[0m \u001b[0;34m==\u001b[0m \u001b[0;36m2\u001b[0m \u001b[0;32mand\u001b[0m \u001b[0mother\u001b[0m\u001b[0;34m.\u001b[0m\u001b[0mshape\u001b[0m\u001b[0;34m[\u001b[0m\u001b[0;36m0\u001b[0m\u001b[0;34m]\u001b[0m \u001b[0;34m==\u001b[0m \u001b[0mN\u001b[0m\u001b[0;34m:\u001b[0m\u001b[0;34m\u001b[0m\u001b[0m\n\u001b[0;32m--> 344\u001b[0;31m                 \u001b[0;32mreturn\u001b[0m \u001b[0mself\u001b[0m\u001b[0;34m.\u001b[0m\u001b[0m_mul_multivector\u001b[0m\u001b[0;34m(\u001b[0m\u001b[0mother\u001b[0m\u001b[0;34m)\u001b[0m\u001b[0;34m\u001b[0m\u001b[0m\n\u001b[0m\u001b[1;32m    345\u001b[0m \u001b[0;34m\u001b[0m\u001b[0m\n\u001b[1;32m    346\u001b[0m         \u001b[0;32mif\u001b[0m \u001b[0misscalarlike\u001b[0m\u001b[0;34m(\u001b[0m\u001b[0mother\u001b[0m\u001b[0;34m)\u001b[0m\u001b[0;34m:\u001b[0m\u001b[0;34m\u001b[0m\u001b[0m\n",
      "\u001b[0;32m/usr/local/lib/python2.7/dist-packages/scipy/sparse/compressed.pyc\u001b[0m in \u001b[0;36m_mul_multivector\u001b[0;34m(self, other)\u001b[0m\n\u001b[1;32m    465\u001b[0m         \u001b[0;31m# csr_matvecs or csc_matvecs\u001b[0m\u001b[0;34m\u001b[0m\u001b[0;34m\u001b[0m\u001b[0m\n\u001b[1;32m    466\u001b[0m         \u001b[0mfn\u001b[0m \u001b[0;34m=\u001b[0m \u001b[0mgetattr\u001b[0m\u001b[0;34m(\u001b[0m\u001b[0m_sparsetools\u001b[0m\u001b[0;34m,\u001b[0m\u001b[0mself\u001b[0m\u001b[0;34m.\u001b[0m\u001b[0mformat\u001b[0m \u001b[0;34m+\u001b[0m \u001b[0;34m'_matvecs'\u001b[0m\u001b[0;34m)\u001b[0m\u001b[0;34m\u001b[0m\u001b[0m\n\u001b[0;32m--> 467\u001b[0;31m         \u001b[0mfn\u001b[0m\u001b[0;34m(\u001b[0m\u001b[0mM\u001b[0m\u001b[0;34m,\u001b[0m \u001b[0mN\u001b[0m\u001b[0;34m,\u001b[0m \u001b[0mn_vecs\u001b[0m\u001b[0;34m,\u001b[0m \u001b[0mself\u001b[0m\u001b[0;34m.\u001b[0m\u001b[0mindptr\u001b[0m\u001b[0;34m,\u001b[0m \u001b[0mself\u001b[0m\u001b[0;34m.\u001b[0m\u001b[0mindices\u001b[0m\u001b[0;34m,\u001b[0m \u001b[0mself\u001b[0m\u001b[0;34m.\u001b[0m\u001b[0mdata\u001b[0m\u001b[0;34m,\u001b[0m \u001b[0mother\u001b[0m\u001b[0;34m.\u001b[0m\u001b[0mravel\u001b[0m\u001b[0;34m(\u001b[0m\u001b[0;34m)\u001b[0m\u001b[0;34m,\u001b[0m \u001b[0mresult\u001b[0m\u001b[0;34m.\u001b[0m\u001b[0mravel\u001b[0m\u001b[0;34m(\u001b[0m\u001b[0;34m)\u001b[0m\u001b[0;34m)\u001b[0m\u001b[0;34m\u001b[0m\u001b[0m\n\u001b[0m\u001b[1;32m    468\u001b[0m \u001b[0;34m\u001b[0m\u001b[0m\n\u001b[1;32m    469\u001b[0m         \u001b[0;32mreturn\u001b[0m \u001b[0mresult\u001b[0m\u001b[0;34m\u001b[0m\u001b[0m\n",
      "\u001b[0;31mMemoryError\u001b[0m: "
     ]
    }
   ],
   "source": [
    "rp_X_tr = rp.transform(X_tr)\n",
    "rp_X_te = rp.transform(X_te)"
   ]
  },
  {
   "cell_type": "code",
   "execution_count": 21,
   "metadata": {
    "collapsed": false
   },
   "outputs": [
    {
     "name": "stdout",
     "output_type": "stream",
     "text": [
      "[ 0.  0.  0. ...,  0.  0.  0.]\n",
      "29446\n",
      "[ 0.05401611 -0.05252075  0.07767487  0.04510498 -0.05822754 -0.09094238\n",
      "  0.02764893  0.04852295  0.06116819  0.05700684 -0.07849121  0.06561279\n",
      " -0.05753326 -0.07012939  0.04693604 -0.07090759  0.06347656 -0.05761719\n",
      "  0.07592773  0.05029297  0.08459473 -0.08486938 -0.08197021  0.05651855\n",
      " -0.05078125 -0.03518677 -0.08355713 -0.0769043  -0.05456543  0.06204224\n",
      "  0.05822754  0.04852295 -0.06497192 -0.07269287  0.06738281 -0.06280518\n",
      " -0.046875    0.08325195 -0.0473938   0.04724121 -0.06958008 -0.05718994\n",
      " -0.0447998  -0.06204224  0.03684235  0.03671265  0.05596924  0.06611633\n",
      " -0.06036377  0.05767822 -0.06237793 -0.05093384 -0.01528931 -0.06274414\n",
      " -0.07092285  0.06771851  0.06109619  0.06677246  0.07867432  0.05722046\n",
      " -0.07055664  0.03881836  0.06494141  0.07537842 -0.06838989 -0.07006073\n",
      "  0.07330322 -0.06555176 -0.08850098 -0.07875824 -0.08163452  0.0949707\n",
      "  0.04806519  0.04998779 -0.07006836  0.06402588 -0.06903076  0.06524658\n",
      "  0.04937744  0.05883789  0.06661987 -0.06298828  0.07562256 -0.05848312\n",
      "  0.07684326 -0.07397461  0.07003021  0.06164551 -0.06759644  0.06350708\n",
      " -0.04748535 -0.06164551 -0.03004265 -0.04907227 -0.059021    0.09197998\n",
      "  0.06982422  0.04504395 -0.05075073 -0.05487061 -0.08026123  0.07263184\n",
      " -0.07531738  0.07354736  0.06161499 -0.05961609  0.06286621 -0.05450439\n",
      " -0.0581665   0.05480957 -0.04632568  0.07397461  0.06893921 -0.05038071\n",
      "  0.0390625  -0.06707764  0.05950928 -0.07254028  0.05474854  0.0613327\n",
      " -0.08184814  0.05859375  0.07434082  0.05438232 -0.06682587  0.07867432\n",
      "  0.08023071  0.07366943  0.08010864  0.06756592 -0.07305908 -0.074646\n",
      "  0.07165527 -0.05200195  0.0916748   0.06433105 -0.0692749   0.06954956\n",
      "  0.07208252  0.07296753  0.04407501  0.07229614  0.06317139  0.07096863\n",
      " -0.07128906  0.0612793  -0.0559082   0.06360626 -0.09069824  0.07305908\n",
      " -0.04750061  0.05218506  0.09118652 -0.0657959   0.05609131 -0.05023193\n",
      "  0.0670166   0.05613708  0.05096436 -0.07080078  0.06573486 -0.05767822\n",
      " -0.05900574  0.08337402  0.05761719 -0.04318237  0.06152344  0.07055664\n",
      " -0.06359863  0.06411743  0.07863617 -0.0737381   0.06280518  0.0378418\n",
      " -0.04833984 -0.06311035 -0.07080078 -0.04385376  0.05861664  0.04675293\n",
      "  0.03913879 -0.07394409 -0.06884766 -0.05786133  0.09317017 -0.08404541\n",
      "  0.05310059 -0.05639648 -0.07183838 -0.06707764  0.05145264 -0.07614136\n",
      " -0.05865479  0.07958984 -0.04931641 -0.05740356  0.08078003  0.07296753\n",
      "  0.08605957 -0.08233643 -0.05566406  0.07513428 -0.04174805  0.08789062\n",
      " -0.04760742 -0.05932617 -0.04663086  0.07666016 -0.05561829 -0.03088379\n",
      "  0.08050537  0.07189941 -0.07055664  0.06513977 -0.06880188  0.07965088\n",
      "  0.06339264  0.0748291   0.05102539 -0.09315872  0.06164551  0.0324707\n",
      "  0.0630188   0.05804443 -0.07971191 -0.06047058  0.0569458   0.06738281\n",
      "  0.03140259  0.04943848  0.06881714 -0.07055664  0.05511475  0.04672241\n",
      "  0.07550049  0.0881958  -0.07714844 -0.0758667  -0.05700684 -0.06982422\n",
      "  0.04327393 -0.04705811  0.0748291   0.06451416 -0.06916809 -0.0645752\n",
      " -0.05163574  0.04925537 -0.08544922  0.07104492  0.07284546  0.03967285\n",
      "  0.07901001 -0.05505371 -0.05511475 -0.06024933 -0.06494141 -0.0682373\n",
      " -0.07019806 -0.06411743 -0.07641602 -0.04559326  0.05834961 -0.0446167\n",
      "  0.07377625 -0.08935547  0.06045532  0.06586838  0.046875    0.06816101\n",
      " -0.06616211 -0.0643158   0.05725098  0.0559082   0.06030273 -0.0536499\n",
      "  0.07150269 -0.04077148 -0.05932617 -0.04553223  0.07962036  0.06005859\n",
      " -0.05371094 -0.05584717 -0.06005859  0.04403687 -0.05957031  0.08569336\n",
      " -0.06546021 -0.07965088  0.04296875 -0.06246948  0.06896973  0.06747437\n",
      " -0.04790497  0.0599823  -0.07641602  0.05273438 -0.05340576 -0.05577087\n",
      "  0.07080078  0.05895996 -0.06311035 -0.07775879 -0.05706787 -0.07666016\n",
      " -0.05895996 -0.06622314  0.06414795 -0.07046509 -0.07470703 -0.06652832\n",
      "  0.06262207  0.06091309 -0.06451321 -0.00720215  0.05297852 -0.06439209\n",
      "  0.06011963  0.05493164  0.05480957  0.0703125  -0.07342529  0.06314087\n",
      "  0.05714417  0.06774902  0.05456543 -0.05737305 -0.05014038 -0.06759644\n",
      "  0.05419922 -0.06225586  0.05718994 -0.04309082  0.04705811 -0.05317688\n",
      " -0.07234192  0.06396484 -0.06848145 -0.05651855  0.05392456  0.04868317\n",
      "  0.07336426 -0.07434082 -0.04620361  0.08044434 -0.0536499   0.05249023\n",
      "  0.06115723  0.05142212 -0.06860352  0.05603027 -0.07524109  0.06036377\n",
      " -0.06390381 -0.06262207 -0.05578613  0.03755188  0.02336121  0.07383728\n",
      "  0.06027222 -0.07067871 -0.06066895  0.0512085   0.06411743  0.07128906\n",
      "  0.06738281 -0.06097412  0.03894043  0.05651855 -0.03634644  0.07513428\n",
      "  0.07623291 -0.06668091 -0.06347656  0.08972168 -0.08276367 -0.05859375\n",
      " -0.07218933  0.06329346  0.06164551  0.06262207  0.08288574  0.04827881\n",
      " -0.06978607 -0.074646   -0.08026123  0.06576538 -0.06262207  0.05480957\n",
      "  0.07458496  0.05529785 -0.04675293 -0.07500458  0.07742362 -0.0300293\n",
      "  0.05969238  0.05078125  0.07151413  0.0743103  -0.0411377  -0.04431152\n",
      "  0.05157471 -0.06762695 -0.06915283 -0.06402588  0.05279541 -0.06976318\n",
      " -0.06549072  0.06530762  0.07110596  0.06481934  0.07061768 -0.0569458\n",
      "  0.07778931  0.05615234  0.04629517 -0.05822754 -0.05783081 -0.07595825\n",
      " -0.0645752   0.06555176 -0.05981445  0.06414795  0.07409668 -0.07800293\n",
      "  0.06695557  0.08721924 -0.0612793  -0.06121826  0.08483887 -0.04788208\n",
      "  0.05117798 -0.06756592 -0.07214355 -0.07232666 -0.0581665   0.05691528\n",
      " -0.0680542   0.06829453  0.06600952 -0.07391357  0.05206299 -0.06872559\n",
      "  0.06686401 -0.07192993  0.07263184  0.05456543  0.05941772 -0.06845093\n",
      " -0.07441711 -0.06890869  0.06842041  0.05133057 -0.08123779 -0.04760742\n",
      "  0.06915283 -0.06596375  0.06274414 -0.07104492  0.06396484 -0.07751465\n",
      "  0.06396484 -0.0760498  -0.07522583 -0.06918335  0.09918213  0.09177399\n",
      "  0.05285645  0.07615662 -0.08081055  0.07644653  0.05160522 -0.07489014\n",
      " -0.07336426 -0.08563232  0.04919434  0.06036377 -0.06570435  0.05041504\n",
      "  0.06750488  0.07077026  0.05383301  0.0534668   0.0526123   0.07769775\n",
      " -0.06317139  0.05200195 -0.06846619 -0.05563354  0.04006958  0.05541992\n",
      " -0.07855225  0.07434082  0.08007812 -0.06226349 -0.0459938   0.05661011\n",
      "  0.05023193 -0.07223511]\n",
      "500\n"
     ]
    }
   ],
   "source": [
    "print X_tr[0]\n",
    "print len(X_tr[0])\n",
    "print ica_X_tr[0]\n",
    "print len(ica_X_tr[0])"
   ]
  },
  {
   "cell_type": "code",
   "execution_count": null,
   "metadata": {
    "collapsed": true
   },
   "outputs": [],
   "source": []
  }
 ],
 "metadata": {
  "kernelspec": {
   "display_name": "Python 2",
   "language": "python",
   "name": "python2"
  },
  "language_info": {
   "codemirror_mode": {
    "name": "ipython",
    "version": 2
   },
   "file_extension": ".py",
   "mimetype": "text/x-python",
   "name": "python",
   "nbconvert_exporter": "python",
   "pygments_lexer": "ipython2",
   "version": "2.7.6"
  }
 },
 "nbformat": 4,
 "nbformat_minor": 2
}
