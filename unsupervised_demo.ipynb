{
 "cells": [
  {
   "cell_type": "markdown",
   "metadata": {},
   "source": [
    "Preprocessing\n",
    "===\n",
    "\n"
   ]
  },
  {
   "cell_type": "code",
   "execution_count": 1,
   "metadata": {
    "collapsed": true
   },
   "outputs": [],
   "source": [
    "from constants import *  # bad practice but YOLO\n",
    "import preproc"
   ]
  },
  {
   "cell_type": "code",
   "execution_count": 2,
   "metadata": {
    "collapsed": true
   },
   "outputs": [],
   "source": [
    "import constants\n",
    "reload(constants);\n",
    "from constants import *"
   ]
  },
  {
   "cell_type": "code",
   "execution_count": 3,
   "metadata": {
    "collapsed": false
   },
   "outputs": [],
   "source": [
    "reload(preproc);\n",
    "y_tr, x_tr = preproc.read_data(TRAIN_FILE, #filename\n",
    "                              'subreddit', #label field\n",
    "                              preprocessor=preproc.tokenize_and_downcase) #your preprocessor\n",
    "\n",
    "y_te, x_te = preproc.read_data(TEST_FILE, #filename\n",
    "                              'subreddit', #label field\n",
    "                              preprocessor=preproc.tokenize_and_downcase) #your preprocessor"
   ]
  },
  {
   "cell_type": "code",
   "execution_count": 4,
   "metadata": {
    "collapsed": false
   },
   "outputs": [],
   "source": [
    "reload(preproc);\n",
    "# vocab = preproc.create_vocab(x_tr, x_te)\n",
    "counts = preproc.get_vocab_counts(x_tr, x_te)\n",
    "vocab = [w for w, _ in counts.most_common(10000)]\n",
    "vocab.append(OFFSET)\n",
    "K = len(vocab)"
   ]
  },
  {
   "cell_type": "code",
   "execution_count": 5,
   "metadata": {
    "collapsed": false
   },
   "outputs": [],
   "source": [
    "reload(preproc);\n",
    "mapping = preproc.create_mapping(vocab, K)"
   ]
  },
  {
   "cell_type": "code",
   "execution_count": 6,
   "metadata": {
    "collapsed": false
   },
   "outputs": [],
   "source": [
    "# Now, we'll turn all of our input features into feature vectors\n",
    "import numpy as np\n",
    "\n",
    "Y_tr = np.array(y_tr)\n",
    "X_tr = [preproc.feature_vector(bow, vocab, K, mapping) for bow in x_tr]\n",
    "\n",
    "Y_te = np.array(y_te)\n",
    "X_te = [preproc.feature_vector(bow, vocab, K, mapping) for bow in x_te]"
   ]
  },
  {
   "cell_type": "markdown",
   "metadata": {},
   "source": [
    "Learning\n",
    "========="
   ]
  },
  {
   "cell_type": "code",
   "execution_count": 7,
   "metadata": {
    "collapsed": true
   },
   "outputs": [],
   "source": [
    "import learner"
   ]
  },
  {
   "cell_type": "markdown",
   "metadata": {},
   "source": [
    "### First, let's try logistic regression"
   ]
  },
  {
   "cell_type": "code",
   "execution_count": 15,
   "metadata": {
    "collapsed": false
   },
   "outputs": [
    {
     "name": "stdout",
     "output_type": "stream",
     "text": [
      "CPU times: user 26.7 s, sys: 85.1 ms, total: 26.7 s\n",
      "Wall time: 26.8 s\n"
     ]
    }
   ],
   "source": [
    "%%time\n",
    "reload(learner);\n",
    "lr = learner.trainLR(X_tr, Y_tr)"
   ]
  },
  {
   "cell_type": "code",
   "execution_count": 16,
   "metadata": {
    "collapsed": false
   },
   "outputs": [
    {
     "name": "stdout",
     "output_type": "stream",
     "text": [
      "1.0\n",
      "0.724\n"
     ]
    }
   ],
   "source": [
    "print learner.accuracy(lr, X_tr, Y_tr)\n",
    "print learner.accuracy(lr, X_te, Y_te)"
   ]
  },
  {
   "cell_type": "markdown",
   "metadata": {},
   "source": [
    "### Now, let's try a neural network (also called Multi-Layer Perceptron)"
   ]
  },
  {
   "cell_type": "code",
   "execution_count": 26,
   "metadata": {
    "collapsed": false
   },
   "outputs": [
    {
     "name": "stdout",
     "output_type": "stream",
     "text": [
      "CPU times: user 1min 49s, sys: 159 ms, total: 1min 49s\n",
      "Wall time: 1min 50s\n"
     ]
    }
   ],
   "source": [
    "%%time\n",
    "reload(learner);\n",
    "mlp = learner.trainMLP(X_tr, Y_tr)"
   ]
  },
  {
   "cell_type": "code",
   "execution_count": 27,
   "metadata": {
    "collapsed": false
   },
   "outputs": [
    {
     "name": "stdout",
     "output_type": "stream",
     "text": [
      "1.0\n",
      "0.696\n"
     ]
    }
   ],
   "source": [
    "print learner.accuracy(mlp, X_tr, Y_tr)\n",
    "print learner.accuracy(mlp, X_te, Y_te)"
   ]
  },
  {
   "cell_type": "markdown",
   "metadata": {},
   "source": [
    "### Now, let's try Naive Bayes"
   ]
  },
  {
   "cell_type": "code",
   "execution_count": 17,
   "metadata": {
    "collapsed": false
   },
   "outputs": [
    {
     "name": "stdout",
     "output_type": "stream",
     "text": [
      "CPU times: user 481 ms, sys: 83.8 ms, total: 565 ms\n",
      "Wall time: 574 ms\n"
     ]
    }
   ],
   "source": [
    "%%time\n",
    "reload(learner);\n",
    "nb = learner.trainNB(X_tr, Y_tr)"
   ]
  },
  {
   "cell_type": "code",
   "execution_count": 18,
   "metadata": {
    "collapsed": false
   },
   "outputs": [
    {
     "name": "stdout",
     "output_type": "stream",
     "text": [
      "0.98575\n",
      "0.652\n"
     ]
    }
   ],
   "source": [
    "print learner.accuracy(nb, X_tr, Y_tr)\n",
    "print learner.accuracy(nb, X_te, Y_te)"
   ]
  },
  {
   "cell_type": "markdown",
   "metadata": {
    "collapsed": true
   },
   "source": [
    "# Dimensionality Reduction\n",
    "\n",
    "We've had some pretty slow training times for LR and NN. Can we do better?\n"
   ]
  },
  {
   "cell_type": "markdown",
   "metadata": {
    "collapsed": true
   },
   "source": [
    "## RP - Random Projections"
   ]
  },
  {
   "cell_type": "code",
   "execution_count": 19,
   "metadata": {
    "collapsed": false
   },
   "outputs": [
    {
     "name": "stdout",
     "output_type": "stream",
     "text": [
      "CPU times: user 12.4 s, sys: 116 ms, total: 12.5 s\n",
      "Wall time: 12.6 s\n"
     ]
    }
   ],
   "source": [
    "%%time\n",
    "reload(learner);\n",
    "# Random Projections\n",
    "rp_tr, rp_te = learner.get_RP_features(X_tr, X_te, n_components=4000)"
   ]
  },
  {
   "cell_type": "markdown",
   "metadata": {},
   "source": [
    "### Logistic Regression with RP"
   ]
  },
  {
   "cell_type": "code",
   "execution_count": 20,
   "metadata": {
    "collapsed": false,
    "scrolled": false
   },
   "outputs": [
    {
     "name": "stdout",
     "output_type": "stream",
     "text": [
      "CPU times: user 11.4 s, sys: 21.6 ms, total: 11.4 s\n",
      "Wall time: 11.5 s\n"
     ]
    }
   ],
   "source": [
    "%%time\n",
    "lr_RP = learner.trainLR(rp_tr, Y_tr)\n"
   ]
  },
  {
   "cell_type": "code",
   "execution_count": 21,
   "metadata": {
    "collapsed": false
   },
   "outputs": [
    {
     "name": "stdout",
     "output_type": "stream",
     "text": [
      "1.0\n",
      "0.678\n"
     ]
    }
   ],
   "source": [
    "print learner.accuracy(lr_RP, rp_tr, Y_tr)\n",
    "print learner.accuracy(lr_RP, rp_te, Y_te)"
   ]
  },
  {
   "cell_type": "markdown",
   "metadata": {
    "collapsed": true
   },
   "source": [
    "### NN with RP"
   ]
  },
  {
   "cell_type": "code",
   "execution_count": 22,
   "metadata": {
    "collapsed": false
   },
   "outputs": [
    {
     "name": "stdout",
     "output_type": "stream",
     "text": [
      "CPU times: user 41.2 s, sys: 54.2 ms, total: 41.2 s\n",
      "Wall time: 41.4 s\n"
     ]
    }
   ],
   "source": [
    "%%time\n",
    "mlp_rp = learner.trainMLP(rp_tr, Y_tr)"
   ]
  },
  {
   "cell_type": "code",
   "execution_count": 23,
   "metadata": {
    "collapsed": false
   },
   "outputs": [
    {
     "name": "stdout",
     "output_type": "stream",
     "text": [
      "1.0\n",
      "0.642\n"
     ]
    }
   ],
   "source": [
    "print learner.accuracy(mlp_rp, rp_tr, Y_tr)\n",
    "print learner.accuracy(mlp_rp, rp_te, Y_te)"
   ]
  },
  {
   "cell_type": "markdown",
   "metadata": {},
   "source": [
    "### NB with RP"
   ]
  },
  {
   "cell_type": "code",
   "execution_count": 28,
   "metadata": {
    "collapsed": false
   },
   "outputs": [
    {
     "name": "stdout",
     "output_type": "stream",
     "text": [
      "CPU times: user 268 ms, sys: 16.5 ms, total: 285 ms\n",
      "Wall time: 288 ms\n"
     ]
    }
   ],
   "source": [
    "%%time\n",
    "nb_rp = learner.trainNB(rp_tr, Y_tr)"
   ]
  },
  {
   "cell_type": "code",
   "execution_count": null,
   "metadata": {
    "collapsed": false
   },
   "outputs": [
    {
     "name": "stdout",
     "output_type": "stream",
     "text": [
      "0.43825\n",
      "0.394\n"
     ]
    }
   ],
   "source": [
    "print learner.accuracy(nb_rp, rp_tr, Y_tr)\n",
    "print learner.accuracy(nb_rp, rp_te, Y_te)"
   ]
  },
  {
   "cell_type": "markdown",
   "metadata": {
    "collapsed": true
   },
   "source": [
    "## ICA"
   ]
  },
  {
   "cell_type": "code",
   "execution_count": null,
   "metadata": {
    "collapsed": false
   },
   "outputs": [],
   "source": [
    "%%time\n",
    "reload(learner);\n",
    "ica_tr, ica_te = learner.get_ICA_features(X_tr, X_te, n_components=4000)"
   ]
  },
  {
   "cell_type": "markdown",
   "metadata": {},
   "source": [
    "### LR with ICA"
   ]
  },
  {
   "cell_type": "code",
   "execution_count": null,
   "metadata": {
    "collapsed": true
   },
   "outputs": [],
   "source": [
    "%time lr_ica = learner.trainLR(ica_tr, Y_tr)\n",
    "print learner.accuracy(lr_ica, ica_tr, Y_tr)\n",
    "print learner.accuracy(lr_ica, ica_te, Y_te)\n"
   ]
  },
  {
   "cell_type": "markdown",
   "metadata": {},
   "source": [
    "### NB with ICA"
   ]
  },
  {
   "cell_type": "code",
   "execution_count": null,
   "metadata": {
    "collapsed": true
   },
   "outputs": [],
   "source": [
    "%time nb_ica = learner.trainNB(ica_tr, Y_tr)\n",
    "print learner.accuracy(nb_ica, ica_tr, Y_tr)\n",
    "print learner.accuracy(nb_ica, ica_te, Y_te)"
   ]
  },
  {
   "cell_type": "markdown",
   "metadata": {},
   "source": [
    "### NN with ICA"
   ]
  },
  {
   "cell_type": "code",
   "execution_count": null,
   "metadata": {
    "collapsed": true
   },
   "outputs": [],
   "source": [
    "%time mlp_ica = learner.trainMLP(ica_tr, Y_tr)\n",
    "print learner.accuracy(mlp_ica, ica_tr, Y_tr)\n",
    "print learner.accuracy(mlp_ica, ica_te, Y_te)"
   ]
  },
  {
   "cell_type": "markdown",
   "metadata": {},
   "source": [
    "# PCA"
   ]
  },
  {
   "cell_type": "code",
   "execution_count": 9,
   "metadata": {
    "collapsed": false
   },
   "outputs": [
    {
     "name": "stdout",
     "output_type": "stream",
     "text": [
      "CPU times: user 3min 40s, sys: 1.44 s, total: 3min 41s\n",
      "Wall time: 3min 42s\n"
     ]
    }
   ],
   "source": [
    "%%time\n",
    "reload(learner);\n",
    "pca_tr, pca_te = learner.get_PCA_features(X_tr, X_te, n_components=4000)"
   ]
  },
  {
   "cell_type": "markdown",
   "metadata": {},
   "source": [
    "### LR with PCA"
   ]
  },
  {
   "cell_type": "code",
   "execution_count": 10,
   "metadata": {
    "collapsed": false,
    "scrolled": true
   },
   "outputs": [
    {
     "name": "stdout",
     "output_type": "stream",
     "text": [
      "CPU times: user 9.59 s, sys: 16 ms, total: 9.6 s\n",
      "Wall time: 9.64 s\n",
      "1.0\n",
      "0.726\n"
     ]
    }
   ],
   "source": [
    "%time lr_pca = learner.trainLR(pca_tr, Y_tr)\n",
    "print learner.accuracy(lr_pca, pca_tr, Y_tr)\n",
    "print learner.accuracy(lr_pca, pca_te, Y_te)"
   ]
  },
  {
   "cell_type": "markdown",
   "metadata": {},
   "source": [
    "### NB with PCA"
   ]
  },
  {
   "cell_type": "code",
   "execution_count": 11,
   "metadata": {
    "collapsed": false,
    "scrolled": true
   },
   "outputs": [
    {
     "name": "stdout",
     "output_type": "stream",
     "text": [
      "CPU times: user 196 ms, sys: 29.3 ms, total: 226 ms\n",
      "Wall time: 229 ms\n",
      "0.491\n",
      "0.274\n"
     ]
    }
   ],
   "source": [
    "%time nb_pca = learner.trainNB(pca_tr, Y_tr)\n",
    "print learner.accuracy(nb_pca, pca_tr, Y_tr)\n",
    "print learner.accuracy(nb_pca, pca_te, Y_te)"
   ]
  },
  {
   "cell_type": "markdown",
   "metadata": {},
   "source": [
    "### NN with PCA"
   ]
  },
  {
   "cell_type": "code",
   "execution_count": null,
   "metadata": {
    "collapsed": false
   },
   "outputs": [
    {
     "name": "stdout",
     "output_type": "stream",
     "text": [
      "CPU times: user 7.43 s, sys: 34 ms, total: 7.46 s\n",
      "Wall time: 7.49 s\n",
      "1.0\n",
      "0.65\n"
     ]
    }
   ],
   "source": [
    "%time mlp_pca = learner.trainMLP(pca_tr, Y_tr)\n",
    "print learner.accuracy(mlp_pca, pca_tr, Y_tr)\n",
    "print learner.accuracy(mlp_pca, pca_te, Y_te)"
   ]
  }
 ],
 "metadata": {
  "kernelspec": {
   "display_name": "Python 2",
   "language": "python",
   "name": "python2"
  },
  "language_info": {
   "codemirror_mode": {
    "name": "ipython",
    "version": 2
   },
   "file_extension": ".py",
   "mimetype": "text/x-python",
   "name": "python",
   "nbconvert_exporter": "python",
   "pygments_lexer": "ipython2",
   "version": "2.7.6"
  }
 },
 "nbformat": 4,
 "nbformat_minor": 2
}
